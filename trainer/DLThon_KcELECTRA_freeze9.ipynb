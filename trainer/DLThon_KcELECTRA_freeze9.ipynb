{
  "nbformat": 4,
  "nbformat_minor": 0,
  "metadata": {
    "colab": {
      "provenance": [],
      "gpuType": "T4"
    },
    "kernelspec": {
      "name": "python3",
      "display_name": "Python 3"
    },
    "language_info": {
      "name": "python"
    },
    "accelerator": "GPU"
  },
  "cells": [
    {
      "cell_type": "code",
      "execution_count": 16,
      "metadata": {
        "id": "ez7-JpbLMP1W"
      },
      "outputs": [],
      "source": [
        "import pandas as pd\n",
        "import torch\n",
        "import torch.nn as nn\n",
        "import torch.optim as optim\n",
        "from torch.utils.data import Dataset, DataLoader\n",
        "from transformers import AutoTokenizer, AutoModelForSequenceClassification, get_linear_schedule_with_warmup\n",
        "from sklearn.model_selection import train_test_split\n",
        "from sklearn.preprocessing import LabelEncoder\n",
        "import numpy as np\n",
        "import matplotlib.pyplot as plt\n",
        "import os\n",
        "from sklearn.metrics import f1_score\n",
        "from tqdm import tqdm"
      ]
    },
    {
      "cell_type": "code",
      "source": [
        "# 데이터 로드\n",
        "######################\n",
        "train_df = pd.read_csv(\"/content/sample_data/aug_train_data.csv\")\n",
        "test_df = pd.read_csv(\"/content/sample_data/test.csv\")\n",
        "\n",
        "labels = train_df[\"class\"].unique().tolist()\n",
        "label_encoder = LabelEncoder()\n",
        "train_df[\"label\"] = label_encoder.fit_transform(train_df[\"class\"])\n",
        "\n",
        "X = train_df[\"text\"].values\n",
        "y = train_df[\"label\"].values\n",
        "\n",
        "X_train, X_val, y_train, y_val = train_test_split(X, y,\n",
        "                                                  test_size=0.2,\n",
        "                                                  random_state=42,\n",
        "                                                  stratify=y)\n",
        "train_df_split = pd.DataFrame({\"text\": X_train, \"label\": y_train})\n",
        "val_df_split = pd.DataFrame({\"text\": X_val, \"label\": y_val})"
      ],
      "metadata": {
        "id": "USPgaJB5eDRx"
      },
      "execution_count": 17,
      "outputs": []
    },
    {
      "cell_type": "code",
      "source": [
        "# Dataset 정의\n",
        "######################\n",
        "class TextDataset(Dataset):\n",
        "    def __init__(self, texts, labels=None, tokenizer=None, max_len=256):\n",
        "        self.texts = texts\n",
        "        self.labels = labels\n",
        "        self.tokenizer = tokenizer\n",
        "        self.max_len = max_len\n",
        "\n",
        "    def __len__(self):\n",
        "        return len(self.texts)\n",
        "\n",
        "    def __getitem__(self, idx):\n",
        "        text = str(self.texts[idx])\n",
        "        encoding = self.tokenizer(\n",
        "            text,\n",
        "            add_special_tokens=True,\n",
        "            truncation=True,\n",
        "            padding='max_length',\n",
        "            max_length=self.max_len,\n",
        "            return_tensors='pt'\n",
        "        )\n",
        "        input_ids = encoding[\"input_ids\"].squeeze(0)\n",
        "        attention_mask = encoding[\"attention_mask\"].squeeze(0)\n",
        "\n",
        "        if self.labels is not None:\n",
        "            label = self.labels[idx]\n",
        "            return {\n",
        "                \"input_ids\": input_ids,\n",
        "                \"attention_mask\": attention_mask,\n",
        "                \"labels\": torch.tensor(label, dtype=torch.long)\n",
        "            }\n",
        "        else:\n",
        "            return {\n",
        "                \"input_ids\": input_ids,\n",
        "                \"attention_mask\": attention_mask\n",
        "            }"
      ],
      "metadata": {
        "id": "dOSpoHdBeEI3"
      },
      "execution_count": 18,
      "outputs": []
    },
    {
      "cell_type": "code",
      "source": [
        "# 토크나이저 및 DataLoader\n",
        "######################\n",
        "model_name = \"beomi/KcELECTRA-base\"\n",
        "tokenizer = AutoTokenizer.from_pretrained(model_name)\n",
        "\n",
        "train_dataset = TextDataset(train_df_split[\"text\"].values,\n",
        "                            train_df_split[\"label\"].values,\n",
        "                            tokenizer=tokenizer, max_len=512)\n",
        "val_dataset = TextDataset(val_df_split[\"text\"].values,\n",
        "                          val_df_split[\"label\"].values,\n",
        "                          tokenizer=tokenizer, max_len=512)\n",
        "test_dataset = TextDataset(test_df[\"text\"].values,\n",
        "                           labels=None,\n",
        "                           tokenizer=tokenizer, max_len=512)\n",
        "\n",
        "train_loader = DataLoader(train_dataset, batch_size=4, shuffle=True, num_workers=2)\n",
        "val_loader = DataLoader(val_dataset, batch_size=4, shuffle=False, num_workers=2)\n",
        "test_loader = DataLoader(test_dataset, batch_size=4, shuffle=False, num_workers=2)"
      ],
      "metadata": {
        "id": "sqUk3XcSeFsG"
      },
      "execution_count": 19,
      "outputs": []
    },
    {
      "cell_type": "code",
      "source": [
        "model = AutoModelForSequenceClassification.from_pretrained(model_name, num_labels=5)\n",
        "\n",
        "# 파라미터 프리즈 로직\n",
        "for name, param in model.named_parameters():\n",
        "    # 임베딩 레이어 프리즈\n",
        "    # \"embeddings\"를 포함한 파라미터명은 임베딩 레이어\n",
        "    if \"embeddings\" in name:\n",
        "        param.requires_grad = False\n",
        "    # 인코더 레이어 중 0~9까지 프리즈\n",
        "    elif \"encoder.layer.\" in name:\n",
        "        layer_num = int(name.split(\"encoder.layer.\")[1].split(\".\")[0])\n",
        "        if layer_num <= 9:\n",
        "            param.requires_grad = False\n",
        "        else:\n",
        "            # 10, 11번 레이어는 학습 가능\n",
        "            param.requires_grad = True\n",
        "    else:\n",
        "        # classification head 등 나머지는 업데이트 가능 상태 유지\n",
        "        param.requires_grad = True"
      ],
      "metadata": {
        "colab": {
          "base_uri": "https://localhost:8080/"
        },
        "id": "6BELyXxHeHjI",
        "outputId": "98427a00-f225-463e-c18c-975ace214dbc"
      },
      "execution_count": 20,
      "outputs": [
        {
          "output_type": "stream",
          "name": "stderr",
          "text": [
            "Some weights of ElectraForSequenceClassification were not initialized from the model checkpoint at beomi/KcELECTRA-base and are newly initialized: ['classifier.dense.bias', 'classifier.dense.weight', 'classifier.out_proj.bias', 'classifier.out_proj.weight']\n",
            "You should probably TRAIN this model on a down-stream task to be able to use it for predictions and inference.\n"
          ]
        }
      ]
    },
    {
      "cell_type": "code",
      "source": [
        "device = torch.device(\"cuda\" if torch.cuda.is_available() else \"cpu\")\n",
        "\n",
        "if torch.cuda.device_count() > 1:\n",
        "    model = nn.DataParallel(model)\n",
        "model = model.to(device)"
      ],
      "metadata": {
        "id": "JibYwQ9Lel7z"
      },
      "execution_count": 21,
      "outputs": []
    },
    {
      "cell_type": "code",
      "source": [
        "# 학습 설정\n",
        "######################\n",
        "epochs = 10\n",
        "optimizer = optim.AdamW(filter(lambda p: p.requires_grad, model.parameters()), lr=2e-5)\n",
        "total_steps = len(train_loader)*epochs\n",
        "scheduler = get_linear_schedule_with_warmup(optimizer,\n",
        "                                            num_warmup_steps=int(total_steps*0.1),\n",
        "                                            num_training_steps=total_steps)\n",
        "loss_fn = nn.CrossEntropyLoss()"
      ],
      "metadata": {
        "id": "TXKO5bKreN-3"
      },
      "execution_count": 22,
      "outputs": []
    },
    {
      "cell_type": "code",
      "source": [
        "# 학습 루프\n",
        "######################\n",
        "train_losses = []\n",
        "val_losses = []\n",
        "val_f1_scores = []\n",
        "\n",
        "for epoch in range(epochs):\n",
        "    # --- Train ---\n",
        "    model.train()\n",
        "    total_train_loss = 0\n",
        "    for batch in tqdm(train_loader, desc=f\"Epoch {epoch+1} [Train]\"):\n",
        "        input_ids = batch[\"input_ids\"].to(device)\n",
        "        attention_mask = batch[\"attention_mask\"].to(device)\n",
        "        labels = batch[\"labels\"].to(device)\n",
        "\n",
        "        optimizer.zero_grad()\n",
        "        outputs = model(input_ids, attention_mask=attention_mask, labels=labels)\n",
        "        loss = outputs.loss\n",
        "        loss.backward()\n",
        "        optimizer.step()\n",
        "        scheduler.step()\n",
        "\n",
        "        total_train_loss += loss.item()\n",
        "\n",
        "    avg_train_loss = total_train_loss / len(train_loader)\n",
        "    train_losses.append(avg_train_loss)\n",
        "\n",
        "    # --- Validation ---\n",
        "    model.eval()\n",
        "    total_val_loss = 0\n",
        "    all_preds = []\n",
        "    all_labels = []\n",
        "    with torch.no_grad():\n",
        "        for batch in tqdm(val_loader, desc=f\"Epoch {epoch+1} [Val]\"):\n",
        "            input_ids = batch[\"input_ids\"].to(device)\n",
        "            attention_mask = batch[\"attention_mask\"].to(device)\n",
        "            labels = batch[\"labels\"].to(device)\n",
        "\n",
        "            outputs = model(input_ids, attention_mask=attention_mask, labels=labels)\n",
        "            loss = outputs.loss\n",
        "            total_val_loss += loss.item()\n",
        "\n",
        "            logits = outputs.logits\n",
        "            preds = torch.argmax(logits, dim=1).cpu().numpy()\n",
        "            all_preds.extend(preds)\n",
        "            all_labels.extend(labels.cpu().numpy())\n",
        "\n",
        "    avg_val_loss = total_val_loss / len(val_loader)\n",
        "    val_losses.append(avg_val_loss)\n",
        "\n",
        "    # 다중 클래스 F1 스코어 (macro) 계산\n",
        "    val_f1 = f1_score(all_labels, all_preds, average='macro')\n",
        "    val_f1_scores.append(val_f1)\n",
        "\n",
        "    print(f\"Epoch {epoch+1}: Train Loss: {avg_train_loss:.4f}, Val Loss: {avg_val_loss:.4f}, Val F1: {val_f1:.4f}\")"
      ],
      "metadata": {
        "colab": {
          "base_uri": "https://localhost:8080/"
        },
        "id": "z3SA2EhKeSci",
        "outputId": "b95d6c37-d63d-402b-e737-f0e711d7bb62"
      },
      "execution_count": 23,
      "outputs": [
        {
          "output_type": "stream",
          "name": "stderr",
          "text": [
            "Epoch 1 [Train]: 100%|██████████| 3427/3427 [10:47<00:00,  5.29it/s]\n",
            "Epoch 1 [Val]: 100%|██████████| 857/857 [02:01<00:00,  7.04it/s]\n"
          ]
        },
        {
          "output_type": "stream",
          "name": "stdout",
          "text": [
            "Epoch 1: Train Loss: 0.9273, Val Loss: 0.5900, Val F1: 0.6384\n"
          ]
        },
        {
          "output_type": "stream",
          "name": "stderr",
          "text": [
            "Epoch 2 [Train]: 100%|██████████| 3427/3427 [10:46<00:00,  5.30it/s]\n",
            "Epoch 2 [Val]: 100%|██████████| 857/857 [02:01<00:00,  7.04it/s]\n"
          ]
        },
        {
          "output_type": "stream",
          "name": "stdout",
          "text": [
            "Epoch 2: Train Loss: 0.4063, Val Loss: 0.2684, Val F1: 0.8543\n"
          ]
        },
        {
          "output_type": "stream",
          "name": "stderr",
          "text": [
            "Epoch 3 [Train]: 100%|██████████| 3427/3427 [10:46<00:00,  5.30it/s]\n",
            "Epoch 3 [Val]: 100%|██████████| 857/857 [02:01<00:00,  7.05it/s]\n"
          ]
        },
        {
          "output_type": "stream",
          "name": "stdout",
          "text": [
            "Epoch 3: Train Loss: 0.2585, Val Loss: 0.2136, Val F1: 0.8895\n"
          ]
        },
        {
          "output_type": "stream",
          "name": "stderr",
          "text": [
            "Epoch 4 [Train]: 100%|██████████| 3427/3427 [10:45<00:00,  5.31it/s]\n",
            "Epoch 4 [Val]: 100%|██████████| 857/857 [02:01<00:00,  7.05it/s]\n"
          ]
        },
        {
          "output_type": "stream",
          "name": "stdout",
          "text": [
            "Epoch 4: Train Loss: 0.1905, Val Loss: 0.1942, Val F1: 0.9003\n"
          ]
        },
        {
          "output_type": "stream",
          "name": "stderr",
          "text": [
            "Epoch 5 [Train]: 100%|██████████| 3427/3427 [10:46<00:00,  5.30it/s]\n",
            "Epoch 5 [Val]: 100%|██████████| 857/857 [02:01<00:00,  7.04it/s]\n"
          ]
        },
        {
          "output_type": "stream",
          "name": "stdout",
          "text": [
            "Epoch 5: Train Loss: 0.1530, Val Loss: 0.1813, Val F1: 0.9138\n"
          ]
        },
        {
          "output_type": "stream",
          "name": "stderr",
          "text": [
            "Epoch 6 [Train]: 100%|██████████| 3427/3427 [10:47<00:00,  5.29it/s]\n",
            "Epoch 6 [Val]: 100%|██████████| 857/857 [02:01<00:00,  7.05it/s]\n"
          ]
        },
        {
          "output_type": "stream",
          "name": "stdout",
          "text": [
            "Epoch 6: Train Loss: 0.1251, Val Loss: 0.1676, Val F1: 0.9236\n"
          ]
        },
        {
          "output_type": "stream",
          "name": "stderr",
          "text": [
            "Epoch 7 [Train]: 100%|██████████| 3427/3427 [10:47<00:00,  5.30it/s]\n",
            "Epoch 7 [Val]: 100%|██████████| 857/857 [02:01<00:00,  7.04it/s]\n"
          ]
        },
        {
          "output_type": "stream",
          "name": "stdout",
          "text": [
            "Epoch 7: Train Loss: 0.0943, Val Loss: 0.1927, Val F1: 0.9160\n"
          ]
        },
        {
          "output_type": "stream",
          "name": "stderr",
          "text": [
            "Epoch 8 [Train]: 100%|██████████| 3427/3427 [10:46<00:00,  5.30it/s]\n",
            "Epoch 8 [Val]: 100%|██████████| 857/857 [02:01<00:00,  7.05it/s]\n"
          ]
        },
        {
          "output_type": "stream",
          "name": "stdout",
          "text": [
            "Epoch 8: Train Loss: 0.0801, Val Loss: 0.1748, Val F1: 0.9269\n"
          ]
        },
        {
          "output_type": "stream",
          "name": "stderr",
          "text": [
            "Epoch 9 [Train]: 100%|██████████| 3427/3427 [10:46<00:00,  5.30it/s]\n",
            "Epoch 9 [Val]: 100%|██████████| 857/857 [02:01<00:00,  7.05it/s]\n"
          ]
        },
        {
          "output_type": "stream",
          "name": "stdout",
          "text": [
            "Epoch 9: Train Loss: 0.0690, Val Loss: 0.1678, Val F1: 0.9327\n"
          ]
        },
        {
          "output_type": "stream",
          "name": "stderr",
          "text": [
            "Epoch 10 [Train]: 100%|██████████| 3427/3427 [10:47<00:00,  5.29it/s]\n",
            "Epoch 10 [Val]: 100%|██████████| 857/857 [02:01<00:00,  7.04it/s]"
          ]
        },
        {
          "output_type": "stream",
          "name": "stdout",
          "text": [
            "Epoch 10: Train Loss: 0.0580, Val Loss: 0.1667, Val F1: 0.9321\n"
          ]
        },
        {
          "output_type": "stream",
          "name": "stderr",
          "text": [
            "\n"
          ]
        }
      ]
    },
    {
      "cell_type": "code",
      "source": [
        "# Loss 시각화\n",
        "######################\n",
        "plt.figure(figsize=(10,5))\n",
        "plt.plot(train_losses, label='Train Loss')\n",
        "plt.plot(val_losses, label='Val Loss')\n",
        "plt.title(\"Train/Validation Loss\")\n",
        "plt.xlabel(\"Epoch\")\n",
        "plt.ylabel(\"Loss\")\n",
        "plt.legend()\n",
        "plt.show()"
      ],
      "metadata": {
        "id": "Uji_DhNEeU9e",
        "colab": {
          "base_uri": "https://localhost:8080/",
          "height": 487
        },
        "outputId": "55ecceff-61c3-422b-e873-55e0c65d8997"
      },
      "execution_count": 24,
      "outputs": [
        {
          "output_type": "display_data",
          "data": {
            "text/plain": [
              "<Figure size 1000x500 with 1 Axes>"
            ],
            "image/png": "[encoded data removed]"
          },
          "metadata": {}
        }
      ]
    },
    {
      "cell_type": "code",
      "source": [
        "# F1 Score 시각화\n",
        "plt.figure(figsize=(10,5))\n",
        "plt.plot(val_f1_scores, label='Val F1 Score')\n",
        "plt.title(\"Validation F1 Score\")\n",
        "plt.xlabel(\"Epoch\")\n",
        "plt.ylabel(\"F1 Score\")\n",
        "plt.legend()\n",
        "plt.show()"
      ],
      "metadata": {
        "id": "RfIFqt7iesx5",
        "colab": {
          "base_uri": "https://localhost:8080/",
          "height": 487
        },
        "outputId": "eaf654c7-0fe4-4b7f-a869-98653c05dd94"
      },
      "execution_count": 25,
      "outputs": [
        {
          "output_type": "display_data",
          "data": {
            "text/plain": [
              "<Figure size 1000x500 with 1 Axes>"
            ],
            "image/png": "[encoded data removed]"
          },
          "metadata": {}
        }
      ]
    },
    {
      "cell_type": "code",
      "source": [
        "# 테스트 데이터 예측\n",
        "######################\n",
        "model.eval()\n",
        "predictions = []\n",
        "with torch.no_grad():\n",
        "    for batch in tqdm(test_loader, desc=\"Test Prediction\"):\n",
        "        input_ids = batch[\"input_ids\"].to(device)\n",
        "        attention_mask = batch[\"attention_mask\"].to(device)\n",
        "\n",
        "        outputs = model(input_ids, attention_mask=attention_mask)\n",
        "        logits = outputs.logits\n",
        "        preds = torch.argmax(logits, dim=1).cpu().numpy()\n",
        "        predictions.extend(preds)\n",
        "\n",
        "pred_labels = label_encoder.inverse_transform(predictions)\n",
        "test_df[\"pred_class\"] = pred_labels\n",
        "test_df.to_csv(\"test_predictions_kcelectra.csv\", index=False)\n"
      ],
      "metadata": {
        "id": "mwe15pcXeuFG",
        "colab": {
          "base_uri": "https://localhost:8080/"
        },
        "outputId": "8a5f1fa5-84dd-4e20-fc1f-95b1017b4265"
      },
      "execution_count": 26,
      "outputs": [
        {
          "output_type": "stream",
          "name": "stderr",
          "text": [
            "Test Prediction: 100%|██████████| 125/125 [00:17<00:00,  6.99it/s]\n"
          ]
        }
      ]
    },
    {
      "cell_type": "code",
      "source": [
        "test_df['pred_class'].value_counts()"
      ],
      "metadata": {
        "id": "92UjIhtYewUx",
        "colab": {
          "base_uri": "https://localhost:8080/",
          "height": 272
        },
        "outputId": "fa0b2abf-44e7-4959-d08f-9940d5b1cee9"
      },
      "execution_count": 27,
      "outputs": [
        {
          "output_type": "execute_result",
          "data": {
            "text/plain": [
              "pred_class\n",
              "기타 괴롭힘 대화      118\n",
              "직장 내 괴롭힘 대화    111\n",
              "갈취 대화          110\n",
              "협박 대화           97\n",
              "일반              64\n",
              "Name: count, dtype: int64"
            ],
            "text/html": [
              "<div>\n",
              "<style scoped>\n",
              "    .dataframe tbody tr th:only-of-type {\n",
              "        vertical-align: middle;\n",
              "    }\n",
              "\n",
              "    .dataframe tbody tr th {\n",
              "        vertical-align: top;\n",
              "    }\n",
              "\n",
              "    .dataframe thead th {\n",
              "        text-align: right;\n",
              "    }\n",
              "</style>\n",
              "<table border=\"1\" class=\"dataframe\">\n",
              "  <thead>\n",
              "    <tr style=\"text-align: right;\">\n",
              "      <th></th>\n",
              "      <th>count</th>\n",
              "    </tr>\n",
              "    <tr>\n",
              "      <th>pred_class</th>\n",
              "      <th></th>\n",
              "    </tr>\n",
              "  </thead>\n",
              "  <tbody>\n",
              "    <tr>\n",
              "      <th>기타 괴롭힘 대화</th>\n",
              "      <td>118</td>\n",
              "    </tr>\n",
              "    <tr>\n",
              "      <th>직장 내 괴롭힘 대화</th>\n",
              "      <td>111</td>\n",
              "    </tr>\n",
              "    <tr>\n",
              "      <th>갈취 대화</th>\n",
              "      <td>110</td>\n",
              "    </tr>\n",
              "    <tr>\n",
              "      <th>협박 대화</th>\n",
              "      <td>97</td>\n",
              "    </tr>\n",
              "    <tr>\n",
              "      <th>일반</th>\n",
              "      <td>64</td>\n",
              "    </tr>\n",
              "  </tbody>\n",
              "</table>\n",
              "</div><br><label><b>dtype:</b> int64</label>"
            ]
          },
          "metadata": {},
          "execution_count": 27
        }
      ]
    },
    {
      "cell_type": "code",
      "source": [
        "sub = pd.read_csv('/content/sample_data/submission.csv')\n",
        "sub['class'] = test_df['pred_class']"
      ],
      "metadata": {
        "id": "8j_SeM2Bex2D"
      },
      "execution_count": 28,
      "outputs": []
    },
    {
      "cell_type": "code",
      "source": [
        "sub['idx'] = sub['file_name']\n",
        "sub['target'] = sub['class']\n",
        "sub = sub.drop(columns=['file_name','class'])\n",
        "sub = sub[['idx', 'target']]\n",
        "sub['target'] = sub['target'].apply(lambda x: 0 if x == '협박 대화' else\n",
        "                                                   1 if x == '갈취 대화' else\n",
        "                                                   2 if x == '직장 내 괴롭힘 대화' else\n",
        "                                                   3 if x == '기타 괴롭힘 대화' else\n",
        "                                                   4 if x == '일반' else None)\n"
      ],
      "metadata": {
        "id": "6dp7YRFdey4V"
      },
      "execution_count": 29,
      "outputs": []
    },
    {
      "cell_type": "code",
      "source": [
        "sub.to_csv('submission_kcelectra_augdata_1012.csv', index=False, encoding='utf-8-sig')"
      ],
      "metadata": {
        "id": "vXGGLu3Ee0C-"
      },
      "execution_count": 30,
      "outputs": []
    },
    {
      "cell_type": "code",
      "source": [],
      "metadata": {
        "id": "RdSwv2aRe3uH"
      },
      "execution_count": 30,
      "outputs": []
    }
  ]
}